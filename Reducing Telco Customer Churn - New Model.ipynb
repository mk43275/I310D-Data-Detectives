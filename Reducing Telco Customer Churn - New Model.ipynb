{
 "cells": [
  {
   "cell_type": "code",
   "execution_count": 1,
   "id": "b2ca28b0",
   "metadata": {},
   "outputs": [
    {
     "data": {
      "text/html": [
       "<div>\n",
       "<style scoped>\n",
       "    .dataframe tbody tr th:only-of-type {\n",
       "        vertical-align: middle;\n",
       "    }\n",
       "\n",
       "    .dataframe tbody tr th {\n",
       "        vertical-align: top;\n",
       "    }\n",
       "\n",
       "    .dataframe thead th {\n",
       "        text-align: right;\n",
       "    }\n",
       "</style>\n",
       "<table border=\"1\" class=\"dataframe\">\n",
       "  <thead>\n",
       "    <tr style=\"text-align: right;\">\n",
       "      <th></th>\n",
       "      <th>CustomerID</th>\n",
       "      <th>Count</th>\n",
       "      <th>Country</th>\n",
       "      <th>State</th>\n",
       "      <th>City</th>\n",
       "      <th>Zip Code</th>\n",
       "      <th>Lat Long</th>\n",
       "      <th>Latitude</th>\n",
       "      <th>Longitude</th>\n",
       "      <th>Gender</th>\n",
       "      <th>...</th>\n",
       "      <th>Contract</th>\n",
       "      <th>Paperless Billing</th>\n",
       "      <th>Payment Method</th>\n",
       "      <th>Monthly Charges</th>\n",
       "      <th>Total Charges</th>\n",
       "      <th>Churn Label</th>\n",
       "      <th>Churn Value</th>\n",
       "      <th>Churn Score</th>\n",
       "      <th>CLTV</th>\n",
       "      <th>Churn Reason</th>\n",
       "    </tr>\n",
       "  </thead>\n",
       "  <tbody>\n",
       "    <tr>\n",
       "      <th>0</th>\n",
       "      <td>3668-QPYBK</td>\n",
       "      <td>1</td>\n",
       "      <td>United States</td>\n",
       "      <td>California</td>\n",
       "      <td>Los Angeles</td>\n",
       "      <td>90003</td>\n",
       "      <td>33.964131, -118.272783</td>\n",
       "      <td>33.964131</td>\n",
       "      <td>-118.272783</td>\n",
       "      <td>Male</td>\n",
       "      <td>...</td>\n",
       "      <td>Month-to-month</td>\n",
       "      <td>Yes</td>\n",
       "      <td>Mailed check</td>\n",
       "      <td>53.85</td>\n",
       "      <td>108.15</td>\n",
       "      <td>Yes</td>\n",
       "      <td>1</td>\n",
       "      <td>86</td>\n",
       "      <td>3239</td>\n",
       "      <td>Competitor made better offer</td>\n",
       "    </tr>\n",
       "    <tr>\n",
       "      <th>1</th>\n",
       "      <td>9237-HQITU</td>\n",
       "      <td>1</td>\n",
       "      <td>United States</td>\n",
       "      <td>California</td>\n",
       "      <td>Los Angeles</td>\n",
       "      <td>90005</td>\n",
       "      <td>34.059281, -118.30742</td>\n",
       "      <td>34.059281</td>\n",
       "      <td>-118.307420</td>\n",
       "      <td>Female</td>\n",
       "      <td>...</td>\n",
       "      <td>Month-to-month</td>\n",
       "      <td>Yes</td>\n",
       "      <td>Electronic check</td>\n",
       "      <td>70.70</td>\n",
       "      <td>151.65</td>\n",
       "      <td>Yes</td>\n",
       "      <td>1</td>\n",
       "      <td>67</td>\n",
       "      <td>2701</td>\n",
       "      <td>Moved</td>\n",
       "    </tr>\n",
       "    <tr>\n",
       "      <th>2</th>\n",
       "      <td>9305-CDSKC</td>\n",
       "      <td>1</td>\n",
       "      <td>United States</td>\n",
       "      <td>California</td>\n",
       "      <td>Los Angeles</td>\n",
       "      <td>90006</td>\n",
       "      <td>34.048013, -118.293953</td>\n",
       "      <td>34.048013</td>\n",
       "      <td>-118.293953</td>\n",
       "      <td>Female</td>\n",
       "      <td>...</td>\n",
       "      <td>Month-to-month</td>\n",
       "      <td>Yes</td>\n",
       "      <td>Electronic check</td>\n",
       "      <td>99.65</td>\n",
       "      <td>820.5</td>\n",
       "      <td>Yes</td>\n",
       "      <td>1</td>\n",
       "      <td>86</td>\n",
       "      <td>5372</td>\n",
       "      <td>Moved</td>\n",
       "    </tr>\n",
       "    <tr>\n",
       "      <th>3</th>\n",
       "      <td>7892-POOKP</td>\n",
       "      <td>1</td>\n",
       "      <td>United States</td>\n",
       "      <td>California</td>\n",
       "      <td>Los Angeles</td>\n",
       "      <td>90010</td>\n",
       "      <td>34.062125, -118.315709</td>\n",
       "      <td>34.062125</td>\n",
       "      <td>-118.315709</td>\n",
       "      <td>Female</td>\n",
       "      <td>...</td>\n",
       "      <td>Month-to-month</td>\n",
       "      <td>Yes</td>\n",
       "      <td>Electronic check</td>\n",
       "      <td>104.80</td>\n",
       "      <td>3046.05</td>\n",
       "      <td>Yes</td>\n",
       "      <td>1</td>\n",
       "      <td>84</td>\n",
       "      <td>5003</td>\n",
       "      <td>Moved</td>\n",
       "    </tr>\n",
       "    <tr>\n",
       "      <th>4</th>\n",
       "      <td>0280-XJGEX</td>\n",
       "      <td>1</td>\n",
       "      <td>United States</td>\n",
       "      <td>California</td>\n",
       "      <td>Los Angeles</td>\n",
       "      <td>90015</td>\n",
       "      <td>34.039224, -118.266293</td>\n",
       "      <td>34.039224</td>\n",
       "      <td>-118.266293</td>\n",
       "      <td>Male</td>\n",
       "      <td>...</td>\n",
       "      <td>Month-to-month</td>\n",
       "      <td>Yes</td>\n",
       "      <td>Bank transfer (automatic)</td>\n",
       "      <td>103.70</td>\n",
       "      <td>5036.3</td>\n",
       "      <td>Yes</td>\n",
       "      <td>1</td>\n",
       "      <td>89</td>\n",
       "      <td>5340</td>\n",
       "      <td>Competitor had better devices</td>\n",
       "    </tr>\n",
       "  </tbody>\n",
       "</table>\n",
       "<p>5 rows × 33 columns</p>\n",
       "</div>"
      ],
      "text/plain": [
       "   CustomerID  Count        Country       State         City  Zip Code   \n",
       "0  3668-QPYBK      1  United States  California  Los Angeles     90003  \\\n",
       "1  9237-HQITU      1  United States  California  Los Angeles     90005   \n",
       "2  9305-CDSKC      1  United States  California  Los Angeles     90006   \n",
       "3  7892-POOKP      1  United States  California  Los Angeles     90010   \n",
       "4  0280-XJGEX      1  United States  California  Los Angeles     90015   \n",
       "\n",
       "                 Lat Long   Latitude   Longitude  Gender  ...        Contract   \n",
       "0  33.964131, -118.272783  33.964131 -118.272783    Male  ...  Month-to-month  \\\n",
       "1   34.059281, -118.30742  34.059281 -118.307420  Female  ...  Month-to-month   \n",
       "2  34.048013, -118.293953  34.048013 -118.293953  Female  ...  Month-to-month   \n",
       "3  34.062125, -118.315709  34.062125 -118.315709  Female  ...  Month-to-month   \n",
       "4  34.039224, -118.266293  34.039224 -118.266293    Male  ...  Month-to-month   \n",
       "\n",
       "  Paperless Billing             Payment Method  Monthly Charges Total Charges   \n",
       "0               Yes               Mailed check            53.85        108.15  \\\n",
       "1               Yes           Electronic check            70.70        151.65   \n",
       "2               Yes           Electronic check            99.65         820.5   \n",
       "3               Yes           Electronic check           104.80       3046.05   \n",
       "4               Yes  Bank transfer (automatic)           103.70        5036.3   \n",
       "\n",
       "  Churn Label Churn Value Churn Score  CLTV                   Churn Reason  \n",
       "0         Yes           1          86  3239   Competitor made better offer  \n",
       "1         Yes           1          67  2701                          Moved  \n",
       "2         Yes           1          86  5372                          Moved  \n",
       "3         Yes           1          84  5003                          Moved  \n",
       "4         Yes           1          89  5340  Competitor had better devices  \n",
       "\n",
       "[5 rows x 33 columns]"
      ]
     },
     "execution_count": 1,
     "metadata": {},
     "output_type": "execute_result"
    }
   ],
   "source": [
    "import pandas as pd # data processing,\n",
    "import seaborn # used for plot interactive graph.\n",
    "import numpy as np\n",
    "import matplotlib.pyplot as plt #this is used for the plot the graph \n",
    "\n",
    "read_file = pd.read_excel (\"Telco_customer_churn.xlsx\")\n",
    "\n",
    "read_file.to_csv (\"Telco_customer_churn.csv\",\n",
    "                  index = None,\n",
    "                  header=True)\n",
    "df = pd.DataFrame(pd.read_csv(\"Telco_customer_churn.csv\"))\n",
    "df.head()"
   ]
  },
  {
   "cell_type": "code",
   "execution_count": 4,
   "id": "4b725891",
   "metadata": {},
   "outputs": [
    {
     "name": "stdout",
     "output_type": "stream",
     "text": [
      "  Total Charges  Monthly Charges  Tenure Months        Contract   \n",
      "0        108.15            53.85              2  Month-to-month  \\\n",
      "1        151.65            70.70              2  Month-to-month   \n",
      "2         820.5            99.65              8  Month-to-month   \n",
      "3       3046.05           104.80             28  Month-to-month   \n",
      "4        5036.3           103.70             49  Month-to-month   \n",
      "\n",
      "  Internet Service  \n",
      "0              DSL  \n",
      "1      Fiber optic  \n",
      "2      Fiber optic  \n",
      "3      Fiber optic  \n",
      "4      Fiber optic  \n"
     ]
    }
   ],
   "source": [
    "# Specify the columns you want to keep\n",
    "cols_to_keep = ['Total Charges', 'Monthly Charges', 'Tenure Months', 'Contract', 'Internet Service']\n",
    "\n",
    "# Use df.loc with boolean indexing to select the desired columns\n",
    "df = df.loc[:, cols_to_keep]\n",
    "\n",
    "# Verify that only the desired columns are retained\n",
    "print(df.head())"
   ]
  },
  {
   "cell_type": "code",
   "execution_count": 5,
   "id": "7332bff4",
   "metadata": {},
   "outputs": [
    {
     "name": "stdout",
     "output_type": "stream",
     "text": [
      "<class 'pandas.core.series.Series'>\n",
      "RangeIndex: 7043 entries, 0 to 7042\n",
      "Series name: Total Charges\n",
      "Non-Null Count  Dtype \n",
      "--------------  ----- \n",
      "7043 non-null   object\n",
      "dtypes: object(1)\n",
      "memory usage: 55.1+ KB\n"
     ]
    }
   ],
   "source": [
    "df['Total Charges'].info()"
   ]
  },
  {
   "cell_type": "code",
   "execution_count": 6,
   "id": "08c977fe",
   "metadata": {},
   "outputs": [
    {
     "data": {
      "text/plain": [
       "0     108.15\n",
       "1     151.65\n",
       "2      820.5\n",
       "3    3046.05\n",
       "4     5036.3\n",
       "Name: Total Charges, dtype: object"
      ]
     },
     "execution_count": 6,
     "metadata": {},
     "output_type": "execute_result"
    }
   ],
   "source": [
    "df['Total Charges'].head()"
   ]
  },
  {
   "cell_type": "code",
   "execution_count": 7,
   "id": "9d7d513b",
   "metadata": {},
   "outputs": [
    {
     "data": {
      "text/plain": [
       "11"
      ]
     },
     "execution_count": 7,
     "metadata": {},
     "output_type": "execute_result"
    }
   ],
   "source": [
    "(df['Total Charges'].str.contains(' ').sum())"
   ]
  },
  {
   "cell_type": "code",
   "execution_count": 8,
   "id": "d8c327d4",
   "metadata": {},
   "outputs": [
    {
     "name": "stdout",
     "output_type": "stream",
     "text": [
      "<class 'pandas.core.series.Series'>\n",
      "RangeIndex: 7043 entries, 0 to 7042\n",
      "Series name: Total Charges\n",
      "Non-Null Count  Dtype  \n",
      "--------------  -----  \n",
      "7032 non-null   float64\n",
      "dtypes: float64(1)\n",
      "memory usage: 55.1 KB\n"
     ]
    }
   ],
   "source": [
    "df['Total Charges']=df['Total Charges'].str.replace(' ', '')\n",
    "df['Total Charges'] = pd.to_numeric(df['Total Charges'])\n",
    "df['Total Charges'].info()"
   ]
  },
  {
   "cell_type": "code",
   "execution_count": 9,
   "id": "3eec9427",
   "metadata": {},
   "outputs": [
    {
     "data": {
      "text/plain": [
       "Index(['Contract', 'Internet Service'], dtype='object')"
      ]
     },
     "execution_count": 9,
     "metadata": {},
     "output_type": "execute_result"
    }
   ],
   "source": [
    "df.select_dtypes(include=['object']).columns"
   ]
  },
  {
   "cell_type": "code",
   "execution_count": 10,
   "id": "fea5a48b",
   "metadata": {},
   "outputs": [
    {
     "data": {
      "text/plain": [
       "Index(['Total Charges', 'Monthly Charges', 'Tenure Months', 'Contract',\n",
       "       'Internet Service'],\n",
       "      dtype='object')"
      ]
     },
     "execution_count": 10,
     "metadata": {},
     "output_type": "execute_result"
    }
   ],
   "source": [
    "df.columns"
   ]
  },
  {
   "cell_type": "code",
   "execution_count": 11,
   "id": "8a068dd8",
   "metadata": {},
   "outputs": [
    {
     "name": "stdout",
     "output_type": "stream",
     "text": [
      "<class 'pandas.core.frame.DataFrame'>\n",
      "RangeIndex: 7043 entries, 0 to 7042\n",
      "Data columns (total 5 columns):\n",
      " #   Column            Non-Null Count  Dtype  \n",
      "---  ------            --------------  -----  \n",
      " 0   Total Charges     7032 non-null   float64\n",
      " 1   Monthly Charges   7043 non-null   float64\n",
      " 2   Tenure Months     7043 non-null   int64  \n",
      " 3   Contract          7043 non-null   object \n",
      " 4   Internet Service  7043 non-null   object \n",
      "dtypes: float64(2), int64(1), object(2)\n",
      "memory usage: 275.2+ KB\n"
     ]
    }
   ],
   "source": [
    "df.info()"
   ]
  },
  {
   "cell_type": "code",
   "execution_count": 13,
   "id": "16c8ff73",
   "metadata": {},
   "outputs": [
    {
     "name": "stdout",
     "output_type": "stream",
     "text": [
      "Internet Service ['DSL' 'Fiber optic' 'No']\n",
      "Contract ['Month-to-month' 'Two year' 'One year']\n"
     ]
    }
   ],
   "source": [
    "print('Internet Service', df['Internet Service'].unique())\n",
    "print('Contract', df['Contract'].unique())"
   ]
  },
  {
   "cell_type": "code",
   "execution_count": 16,
   "id": "a7effd40",
   "metadata": {},
   "outputs": [
    {
     "data": {
      "text/plain": [
       "[]"
      ]
     },
     "execution_count": 16,
     "metadata": {},
     "output_type": "execute_result"
    }
   ],
   "source": [
    "cat_col = []\n",
    "\n",
    "for col in df.columns: \n",
    "    if len(df[col].unique()) == 2:\n",
    "        cat_col.append(col)\n",
    "        \n",
    "cat_col"
   ]
  },
  {
   "cell_type": "code",
   "execution_count": 17,
   "id": "e21b5f44",
   "metadata": {},
   "outputs": [
    {
     "data": {
      "text/plain": [
       "['Contract', 'Internet Service']"
      ]
     },
     "execution_count": 17,
     "metadata": {},
     "output_type": "execute_result"
    }
   ],
   "source": [
    "cat_multiple_col = []\n",
    "\n",
    "for col in df.columns: \n",
    "    if col not in cat_col and df[col].dtype == 'object':\n",
    "        cat_multiple_col.append(col)\n",
    "\n",
    "cat_multiple_col"
   ]
  },
  {
   "cell_type": "code",
   "execution_count": 18,
   "id": "d843414b",
   "metadata": {},
   "outputs": [
    {
     "data": {
      "text/html": [
       "<div>\n",
       "<style scoped>\n",
       "    .dataframe tbody tr th:only-of-type {\n",
       "        vertical-align: middle;\n",
       "    }\n",
       "\n",
       "    .dataframe tbody tr th {\n",
       "        vertical-align: top;\n",
       "    }\n",
       "\n",
       "    .dataframe thead th {\n",
       "        text-align: right;\n",
       "    }\n",
       "</style>\n",
       "<table border=\"1\" class=\"dataframe\">\n",
       "  <thead>\n",
       "    <tr style=\"text-align: right;\">\n",
       "      <th></th>\n",
       "      <th>Total Charges</th>\n",
       "      <th>Monthly Charges</th>\n",
       "      <th>Tenure Months</th>\n",
       "      <th>Contract_Month-to-month</th>\n",
       "      <th>Contract_One year</th>\n",
       "      <th>Contract_Two year</th>\n",
       "      <th>Internet Service_DSL</th>\n",
       "      <th>Internet Service_Fiber optic</th>\n",
       "      <th>Internet Service_No</th>\n",
       "    </tr>\n",
       "  </thead>\n",
       "  <tbody>\n",
       "    <tr>\n",
       "      <th>0</th>\n",
       "      <td>108.15</td>\n",
       "      <td>53.85</td>\n",
       "      <td>2</td>\n",
       "      <td>True</td>\n",
       "      <td>False</td>\n",
       "      <td>False</td>\n",
       "      <td>True</td>\n",
       "      <td>False</td>\n",
       "      <td>False</td>\n",
       "    </tr>\n",
       "    <tr>\n",
       "      <th>1</th>\n",
       "      <td>151.65</td>\n",
       "      <td>70.70</td>\n",
       "      <td>2</td>\n",
       "      <td>True</td>\n",
       "      <td>False</td>\n",
       "      <td>False</td>\n",
       "      <td>False</td>\n",
       "      <td>True</td>\n",
       "      <td>False</td>\n",
       "    </tr>\n",
       "    <tr>\n",
       "      <th>2</th>\n",
       "      <td>820.50</td>\n",
       "      <td>99.65</td>\n",
       "      <td>8</td>\n",
       "      <td>True</td>\n",
       "      <td>False</td>\n",
       "      <td>False</td>\n",
       "      <td>False</td>\n",
       "      <td>True</td>\n",
       "      <td>False</td>\n",
       "    </tr>\n",
       "    <tr>\n",
       "      <th>3</th>\n",
       "      <td>3046.05</td>\n",
       "      <td>104.80</td>\n",
       "      <td>28</td>\n",
       "      <td>True</td>\n",
       "      <td>False</td>\n",
       "      <td>False</td>\n",
       "      <td>False</td>\n",
       "      <td>True</td>\n",
       "      <td>False</td>\n",
       "    </tr>\n",
       "    <tr>\n",
       "      <th>4</th>\n",
       "      <td>5036.30</td>\n",
       "      <td>103.70</td>\n",
       "      <td>49</td>\n",
       "      <td>True</td>\n",
       "      <td>False</td>\n",
       "      <td>False</td>\n",
       "      <td>False</td>\n",
       "      <td>True</td>\n",
       "      <td>False</td>\n",
       "    </tr>\n",
       "    <tr>\n",
       "      <th>...</th>\n",
       "      <td>...</td>\n",
       "      <td>...</td>\n",
       "      <td>...</td>\n",
       "      <td>...</td>\n",
       "      <td>...</td>\n",
       "      <td>...</td>\n",
       "      <td>...</td>\n",
       "      <td>...</td>\n",
       "      <td>...</td>\n",
       "    </tr>\n",
       "    <tr>\n",
       "      <th>7038</th>\n",
       "      <td>1419.40</td>\n",
       "      <td>21.15</td>\n",
       "      <td>72</td>\n",
       "      <td>False</td>\n",
       "      <td>False</td>\n",
       "      <td>True</td>\n",
       "      <td>False</td>\n",
       "      <td>False</td>\n",
       "      <td>True</td>\n",
       "    </tr>\n",
       "    <tr>\n",
       "      <th>7039</th>\n",
       "      <td>1990.50</td>\n",
       "      <td>84.80</td>\n",
       "      <td>24</td>\n",
       "      <td>False</td>\n",
       "      <td>True</td>\n",
       "      <td>False</td>\n",
       "      <td>True</td>\n",
       "      <td>False</td>\n",
       "      <td>False</td>\n",
       "    </tr>\n",
       "    <tr>\n",
       "      <th>7040</th>\n",
       "      <td>7362.90</td>\n",
       "      <td>103.20</td>\n",
       "      <td>72</td>\n",
       "      <td>False</td>\n",
       "      <td>True</td>\n",
       "      <td>False</td>\n",
       "      <td>False</td>\n",
       "      <td>True</td>\n",
       "      <td>False</td>\n",
       "    </tr>\n",
       "    <tr>\n",
       "      <th>7041</th>\n",
       "      <td>346.45</td>\n",
       "      <td>29.60</td>\n",
       "      <td>11</td>\n",
       "      <td>True</td>\n",
       "      <td>False</td>\n",
       "      <td>False</td>\n",
       "      <td>True</td>\n",
       "      <td>False</td>\n",
       "      <td>False</td>\n",
       "    </tr>\n",
       "    <tr>\n",
       "      <th>7042</th>\n",
       "      <td>6844.50</td>\n",
       "      <td>105.65</td>\n",
       "      <td>66</td>\n",
       "      <td>False</td>\n",
       "      <td>False</td>\n",
       "      <td>True</td>\n",
       "      <td>False</td>\n",
       "      <td>True</td>\n",
       "      <td>False</td>\n",
       "    </tr>\n",
       "  </tbody>\n",
       "</table>\n",
       "<p>7043 rows × 9 columns</p>\n",
       "</div>"
      ],
      "text/plain": [
       "      Total Charges  Monthly Charges  Tenure Months  Contract_Month-to-month   \n",
       "0            108.15            53.85              2                     True  \\\n",
       "1            151.65            70.70              2                     True   \n",
       "2            820.50            99.65              8                     True   \n",
       "3           3046.05           104.80             28                     True   \n",
       "4           5036.30           103.70             49                     True   \n",
       "...             ...              ...            ...                      ...   \n",
       "7038        1419.40            21.15             72                    False   \n",
       "7039        1990.50            84.80             24                    False   \n",
       "7040        7362.90           103.20             72                    False   \n",
       "7041         346.45            29.60             11                     True   \n",
       "7042        6844.50           105.65             66                    False   \n",
       "\n",
       "      Contract_One year  Contract_Two year  Internet Service_DSL   \n",
       "0                 False              False                  True  \\\n",
       "1                 False              False                 False   \n",
       "2                 False              False                 False   \n",
       "3                 False              False                 False   \n",
       "4                 False              False                 False   \n",
       "...                 ...                ...                   ...   \n",
       "7038              False               True                 False   \n",
       "7039               True              False                  True   \n",
       "7040               True              False                 False   \n",
       "7041              False              False                  True   \n",
       "7042              False               True                 False   \n",
       "\n",
       "      Internet Service_Fiber optic  Internet Service_No  \n",
       "0                            False                False  \n",
       "1                             True                False  \n",
       "2                             True                False  \n",
       "3                             True                False  \n",
       "4                             True                False  \n",
       "...                            ...                  ...  \n",
       "7038                         False                 True  \n",
       "7039                         False                False  \n",
       "7040                          True                False  \n",
       "7041                         False                False  \n",
       "7042                          True                False  \n",
       "\n",
       "[7043 rows x 9 columns]"
      ]
     },
     "execution_count": 18,
     "metadata": {},
     "output_type": "execute_result"
    }
   ],
   "source": [
    "encoded_df = df.copy()\n",
    "\n",
    "#for col in cat_col:\n",
    "    #encoded_df[col] = df[col].map(lambda s :1  if s =='Yes' or s=='Female' else 0)\n",
    "encoded_df = pd.get_dummies(encoded_df, columns=cat_multiple_col)\n",
    "encoded_df"
   ]
  },
  {
   "cell_type": "code",
   "execution_count": 19,
   "id": "80d6dc9f",
   "metadata": {},
   "outputs": [
    {
     "name": "stdout",
     "output_type": "stream",
     "text": [
      "<class 'pandas.core.frame.DataFrame'>\n",
      "RangeIndex: 7043 entries, 0 to 7042\n",
      "Data columns (total 9 columns):\n",
      " #   Column                        Non-Null Count  Dtype  \n",
      "---  ------                        --------------  -----  \n",
      " 0   Total Charges                 7032 non-null   float64\n",
      " 1   Monthly Charges               7043 non-null   float64\n",
      " 2   Tenure Months                 7043 non-null   int64  \n",
      " 3   Contract_Month-to-month       7043 non-null   bool   \n",
      " 4   Contract_One year             7043 non-null   bool   \n",
      " 5   Contract_Two year             7043 non-null   bool   \n",
      " 6   Internet Service_DSL          7043 non-null   bool   \n",
      " 7   Internet Service_Fiber optic  7043 non-null   bool   \n",
      " 8   Internet Service_No           7043 non-null   bool   \n",
      "dtypes: bool(6), float64(2), int64(1)\n",
      "memory usage: 206.5 KB\n"
     ]
    }
   ],
   "source": [
    "encoded_df.info()"
   ]
  },
  {
   "cell_type": "code",
   "execution_count": 20,
   "id": "acabdd10",
   "metadata": {},
   "outputs": [
    {
     "name": "stdout",
     "output_type": "stream",
     "text": [
      "Total Charges                   11\n",
      "Monthly Charges                  0\n",
      "Tenure Months                    0\n",
      "Contract_Month-to-month          0\n",
      "Contract_One year                0\n",
      "Contract_Two year                0\n",
      "Internet Service_DSL             0\n",
      "Internet Service_Fiber optic     0\n",
      "Internet Service_No              0\n",
      "dtype: int64\n"
     ]
    }
   ],
   "source": [
    "print(encoded_df.isna().sum())\n",
    "encoded_df = encoded_df.dropna()"
   ]
  },
  {
   "cell_type": "code",
   "execution_count": 21,
   "id": "096dee54",
   "metadata": {},
   "outputs": [
    {
     "name": "stdout",
     "output_type": "stream",
     "text": [
      "<class 'pandas.core.frame.DataFrame'>\n",
      "Index: 7032 entries, 0 to 7042\n",
      "Data columns (total 9 columns):\n",
      " #   Column                        Non-Null Count  Dtype  \n",
      "---  ------                        --------------  -----  \n",
      " 0   Total Charges                 7032 non-null   float64\n",
      " 1   Monthly Charges               7032 non-null   float64\n",
      " 2   Tenure Months                 7032 non-null   int64  \n",
      " 3   Contract_Month-to-month       7032 non-null   bool   \n",
      " 4   Contract_One year             7032 non-null   bool   \n",
      " 5   Contract_Two year             7032 non-null   bool   \n",
      " 6   Internet Service_DSL          7032 non-null   bool   \n",
      " 7   Internet Service_Fiber optic  7032 non-null   bool   \n",
      " 8   Internet Service_No           7032 non-null   bool   \n",
      "dtypes: bool(6), float64(2), int64(1)\n",
      "memory usage: 261.0 KB\n"
     ]
    }
   ],
   "source": [
    "encoded_df.info()"
   ]
  },
  {
   "cell_type": "code",
   "execution_count": 23,
   "id": "559cc2f6",
   "metadata": {},
   "outputs": [],
   "source": [
    "#encoded_df = encoded_df.drop(encoded_df.columns[[10,11,16,17,19,20, 22,23,25,26,28,29, 31,32]], axis=1)"
   ]
  },
  {
   "cell_type": "code",
   "execution_count": 24,
   "id": "b16a2c0e",
   "metadata": {},
   "outputs": [],
   "source": [
    "encoded_df.to_csv('Encoded_df.csv')"
   ]
  },
  {
   "cell_type": "code",
   "execution_count": 25,
   "id": "236e987d",
   "metadata": {},
   "outputs": [
    {
     "ename": "ModuleNotFoundError",
     "evalue": "No module named 'imblearn'",
     "output_type": "error",
     "traceback": [
      "\u001b[0;31m---------------------------------------------------------------------------\u001b[0m",
      "\u001b[0;31mModuleNotFoundError\u001b[0m                       Traceback (most recent call last)",
      "Cell \u001b[0;32mIn[25], line 3\u001b[0m\n\u001b[1;32m      1\u001b[0m \u001b[38;5;28;01mimport\u001b[39;00m \u001b[38;5;21;01mpandas\u001b[39;00m \u001b[38;5;28;01mas\u001b[39;00m \u001b[38;5;21;01mpd\u001b[39;00m\n\u001b[1;32m      2\u001b[0m \u001b[38;5;28;01mfrom\u001b[39;00m \u001b[38;5;21;01msklearn\u001b[39;00m\u001b[38;5;21;01m.\u001b[39;00m\u001b[38;5;21;01mensemble\u001b[39;00m \u001b[38;5;28;01mimport\u001b[39;00m RandomForestClassifier\n\u001b[0;32m----> 3\u001b[0m \u001b[38;5;28;01mfrom\u001b[39;00m \u001b[38;5;21;01mimblearn\u001b[39;00m\u001b[38;5;21;01m.\u001b[39;00m\u001b[38;5;21;01munder_sampling\u001b[39;00m \u001b[38;5;28;01mimport\u001b[39;00m RandomUnderSampler\n\u001b[1;32m      4\u001b[0m \u001b[38;5;28;01mfrom\u001b[39;00m \u001b[38;5;21;01msklearn\u001b[39;00m\u001b[38;5;21;01m.\u001b[39;00m\u001b[38;5;21;01mmodel_selection\u001b[39;00m \u001b[38;5;28;01mimport\u001b[39;00m GridSearchCV, train_test_split\n\u001b[1;32m      5\u001b[0m \u001b[38;5;28;01mfrom\u001b[39;00m \u001b[38;5;21;01msklearn\u001b[39;00m\u001b[38;5;21;01m.\u001b[39;00m\u001b[38;5;21;01mmetrics\u001b[39;00m \u001b[38;5;28;01mimport\u001b[39;00m classification_report, accuracy_score, confusion_matrix\n",
      "\u001b[0;31mModuleNotFoundError\u001b[0m: No module named 'imblearn'"
     ]
    }
   ],
   "source": [
    "import pandas as pd\n",
    "from sklearn.ensemble import RandomForestClassifier\n",
    "from imblearn.under_sampling import RandomUnderSampler\n",
    "from sklearn.model_selection import GridSearchCV, train_test_split\n",
    "from sklearn.metrics import classification_report, accuracy_score, confusion_matrix"
   ]
  },
  {
   "cell_type": "code",
   "execution_count": null,
   "id": "814a88c5",
   "metadata": {},
   "outputs": [],
   "source": []
  }
 ],
 "metadata": {
  "kernelspec": {
   "display_name": "Python 3 (ipykernel)",
   "language": "python",
   "name": "python3"
  },
  "language_info": {
   "codemirror_mode": {
    "name": "ipython",
    "version": 3
   },
   "file_extension": ".py",
   "mimetype": "text/x-python",
   "name": "python",
   "nbconvert_exporter": "python",
   "pygments_lexer": "ipython3",
   "version": "3.9.13"
  }
 },
 "nbformat": 4,
 "nbformat_minor": 5
}
